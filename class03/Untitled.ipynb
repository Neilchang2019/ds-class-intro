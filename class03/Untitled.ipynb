{
 "cells": [
  {
   "cell_type": "markdown",
   "metadata": {},
   "source": [
    "\n",
    "Use the data state.csv to do listed practice:\n",
    "\n",
    "Read the data in pandas, and perform exploratory data analysis for all variables in the data:\n",
    "1. Show all data types, missing rates\n",
    "2. Numerical variables provide mean, SD, five number summary, histogram\n",
    "3. Categorical variables provide frequency table and bar chart\n",
    "4. Perform at least 2 pairs of variable for 2 types of bivariate charts\n",
    "5. Provide a summary to describe what you know about your data in this practice."
   ]
  },
  {
   "cell_type": "code",
   "execution_count": null,
   "metadata": {},
   "outputs": [],
   "source": []
  }
 ],
 "metadata": {
  "kernelspec": {
   "display_name": "Python 3",
   "language": "python",
   "name": "python3"
  },
  "language_info": {
   "codemirror_mode": {
    "name": "ipython",
    "version": 3
   },
   "file_extension": ".py",
   "mimetype": "text/x-python",
   "name": "python",
   "nbconvert_exporter": "python",
   "pygments_lexer": "ipython3",
   "version": "3.7.7"
  }
 },
 "nbformat": 4,
 "nbformat_minor": 4
}
